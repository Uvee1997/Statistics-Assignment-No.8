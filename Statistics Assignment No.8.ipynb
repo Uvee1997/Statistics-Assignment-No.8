{
 "cells": [
  {
   "cell_type": "markdown",
   "id": "ce32ae71",
   "metadata": {},
   "source": [
    "1) A crime is committed by one of two suspects, A and B. Initially, there is equal evidence against both of them. In further investigation at the crime scene, it is found that the guilty party had a blood type found in 10% of the population. Suspect A does match this blood type, whereas the blood type of Suspect B is unknown. (a) Given this new information, what is the probability that A is the guilty party? (b) Given this new information, what is the probability that B’s blood type matches that found at the crime scene?"
   ]
  },
  {
   "cell_type": "code",
   "execution_count": null,
   "id": "9c0c3a04",
   "metadata": {},
   "outputs": [],
   "source": [
    "Ans:-\n",
    " \n",
    "\n",
    "So here is my approach. Let A stands for \"A gulity\", M for \"A matching the blood type\" and N for \"B matching the blood type\". Then\n",
    "P(A|M)=P(A|M,N)P(N|M)+P(A|M,NC)P(NC|M)\n",
    "P(A|M)=12110+1910=1920\n",
    "Here it is inferred that the blood type of B is independant of that of A and that if both have the matching blood type they are equally likely to be guilty.\n",
    "\n",
    "Let the blood type found at crime seen be X.\n",
    "\n",
    "Probability that A is gulity prior to the new evidence P(A)=1−P(B)=0.5\n",
    "Probability that blood type of X is found given A is gulty = Probability that A has the blood type P(X|A)=1\n",
    "Probability that blood type of X is found given B is guilty = Probability that B has the blood type P(X|B)=0.1\n",
    "Now it is known that blood type is X, and given exactly one of A or B is guilty,\n",
    "\n",
    "P(A|X)=P(X|A)P(A)P(X)=P(X|A)P(A)P(X|A)P(A)+P(X|B)P(B)=10/11"
   ]
  }
 ],
 "metadata": {
  "kernelspec": {
   "display_name": "Python 3 (ipykernel)",
   "language": "python",
   "name": "python3"
  },
  "language_info": {
   "codemirror_mode": {
    "name": "ipython",
    "version": 3
   },
   "file_extension": ".py",
   "mimetype": "text/x-python",
   "name": "python",
   "nbconvert_exporter": "python",
   "pygments_lexer": "ipython3",
   "version": "3.9.7"
  }
 },
 "nbformat": 4,
 "nbformat_minor": 5
}
